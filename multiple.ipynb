{
 "cells": [
  {
   "cell_type": "code",
   "execution_count": 23,
   "metadata": {},
   "outputs": [],
   "source": [
    "# Derek Nissen\n",
    "# 5/7/2023\n",
    "%matplotlib inline\n",
    "import json\n",
    "import matplotlib.pyplot as plt\n",
    "from pullData import *"
   ]
  },
  {
   "cell_type": "code",
   "execution_count": 27,
   "metadata": {},
   "outputs": [],
   "source": [
    "# Enter variables\n",
    "runners = [\"derek nissen\", \"andres kemper\", \"carter younger\"] # First Last, the first runner takes priority on x variables\n",
    "event = \"5000 Meter Run\""
   ]
  },
  {
   "cell_type": "code",
   "execution_count": 25,
   "metadata": {},
   "outputs": [],
   "source": [
    "# Line colors\n",
    "colors = [\"blue\", \"red\", \"green\", \"yellow\"]"
   ]
  },
  {
   "cell_type": "code",
   "execution_count": 28,
   "metadata": {},
   "outputs": [
    {
     "ename": "TypeError",
     "evalue": "getRunnerData() got an unexpected keyword argument 'newData'",
     "output_type": "error",
     "traceback": [
      "\u001b[0;31m---------------------------------------------------------------------------\u001b[0m",
      "\u001b[0;31mTypeError\u001b[0m                                 Traceback (most recent call last)",
      "Cell \u001b[0;32mIn[28], line 5\u001b[0m\n\u001b[1;32m      3\u001b[0m firstXValues \u001b[39m=\u001b[39m []\n\u001b[1;32m      4\u001b[0m \u001b[39mfor\u001b[39;00m index, runnerName \u001b[39min\u001b[39;00m \u001b[39menumerate\u001b[39m(runners):\n\u001b[0;32m----> 5\u001b[0m     results \u001b[39m=\u001b[39m getRunnerData(runnerName, newData \u001b[39m=\u001b[39;49m \u001b[39mFalse\u001b[39;49;00m)\n\u001b[1;32m      6\u001b[0m     \u001b[39m# Transport data\u001b[39;00m\n\u001b[1;32m      7\u001b[0m     eventData \u001b[39m=\u001b[39m results[event]\n",
      "\u001b[0;31mTypeError\u001b[0m: getRunnerData() got an unexpected keyword argument 'newData'"
     ]
    }
   ],
   "source": [
    "# Import data\n",
    "teamDict = json.load(open(\"teams.JSON\", \"r\")) # Convert JSON read file to dictionary\n",
    "firstXValues = []\n",
    "for index, runnerName in enumerate(runners):\n",
    "    results = getRunnerData(runnerName, newData = False)\n",
    "    # Transport data\n",
    "    eventData = results[event]\n",
    "    xValues = [] # Date\n",
    "    yValues = [] # Time\n",
    "    for performance in eventData:\n",
    "    # Convert date to number\n",
    "\n",
    "        # Convert time to number value\n",
    "        sections = performance[0].split(\":\")\n",
    "        seconds = 0\n",
    "        seconds += float(sections[0]) * 60\n",
    "        if len(sections) >= 2:\n",
    "            seconds += float(sections[1])\n",
    "        if len(sections) >= 3: \n",
    "            seconds += float(sections[2]) * .1\n",
    "        \n",
    "        if index != 0:\n",
    "            if performance[4] in firstXValues:\n",
    "                xValues.append(performance[4])\n",
    "                yValues.append(seconds)\n",
    "        else:\n",
    "            xValues.append(performance[4])\n",
    "            yValues.append(seconds)\n",
    "\n",
    "    xValues.reverse()\n",
    "    \n",
    "    if index == 0:\n",
    "        firstXValues = xValues\n",
    "        print(firstXValues)\n",
    "    yValues.reverse()\n",
    "    plt.plot(xValues, yValues)\n",
    "\n",
    "plt.xticks(rotation='vertical')\n",
    "plt.legend(runners)\n",
    "plt.show()"
   ]
  }
 ],
 "metadata": {
  "kernelspec": {
   "display_name": "Python 3",
   "language": "python",
   "name": "python3"
  },
  "language_info": {
   "codemirror_mode": {
    "name": "ipython",
    "version": 3
   },
   "file_extension": ".py",
   "mimetype": "text/x-python",
   "name": "python",
   "nbconvert_exporter": "python",
   "pygments_lexer": "ipython3",
   "version": "3.11.3"
  },
  "orig_nbformat": 4
 },
 "nbformat": 4,
 "nbformat_minor": 2
}
